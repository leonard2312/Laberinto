{
  "nbformat": 4,
  "nbformat_minor": 0,
  "metadata": {
    "colab": {
      "name": "Pila",
      "provenance": [],
      "authorship_tag": "ABX9TyOCIehAifsBsZbJ0PbGuFgc",
      "include_colab_link": true
    },
    "kernelspec": {
      "name": "python3",
      "display_name": "Python 3"
    },
    "language_info": {
      "name": "python"
    }
  },
  "cells": [
    {
      "cell_type": "markdown",
      "metadata": {
        "id": "view-in-github",
        "colab_type": "text"
      },
      "source": [
        "<a href=\"https://colab.research.google.com/github/leonard2312/Laberinto/blob/main/Pila.ipynb\" target=\"_parent\"><img src=\"https://colab.research.google.com/assets/colab-badge.svg\" alt=\"Open In Colab\"/></a>"
      ]
    },
    {
      "cell_type": "code",
      "metadata": {
        "id": "VuhVJOscTcHa"
      },
      "source": [
        "class StackADT:\n",
        "    def __init__( self  ):\n",
        "        self.data = list()\n",
        "        self.tope = 0\n",
        "\n",
        "    def is_empty( self ):\n",
        "        return self.tope == 0\n",
        "\n",
        "    def length( self ):\n",
        "        return self.tope -1\n",
        "\n",
        "    def pop( self ):\n",
        "        if not self.is_empty():\n",
        "            return self.data.pop()\n",
        "        self.tope -=1\n",
        "    \n",
        "    def peek( self ):\n",
        "        return self.data[ self.tope - 1 ]\n",
        "    \n",
        "    def push( self , value ):\n",
        "        self.data.append( value )\n",
        "        self.tope +=1\n",
        "\n",
        "    def to_string( self ):\n",
        "        for elem in self.data[: : -1]:\n",
        "            print(f\"| { elem } |\")"
      ],
      "execution_count": 30,
      "outputs": []
    },
    {
      "cell_type": "code",
      "metadata": {
        "colab": {
          "base_uri": "https://localhost:8080/"
        },
        "id": "UB_agO04TwwR",
        "outputId": "ac39ff76-8ce9-4777-ce79-a66b0d228a82"
      },
      "source": [
        "Pila = StackADT()\n",
        "\n",
        "print(Pila.is_empty())\n",
        "\n",
        "Pila.push(20)\n",
        "Pila.push(40)\n",
        "Pila.push(50)\n",
        "\n",
        "Pila.to_string()\n",
        "\n",
        "print(Pila.is_empty())\n",
        "print(Pila.peek())\n",
        "\n",
        "print(Pila.length())\n",
        "\n",
        "print(Pila.pop())\n",
        "\n",
        "Pila.to_string()\n",
        "\n",
        "print(Pila.length())"
      ],
      "execution_count": 31,
      "outputs": [
        {
          "output_type": "stream",
          "name": "stdout",
          "text": [
            "True\n",
            "| 50 |\n",
            "| 40 |\n",
            "| 20 |\n",
            "False\n",
            "50\n",
            "2\n",
            "50\n",
            "| 40 |\n",
            "| 20 |\n",
            "2\n"
          ]
        }
      ]
    },
    {
      "cell_type": "code",
      "metadata": {
        "id": "bXiECcdKeYeG"
      },
      "source": [
        "class Array2D():\n",
        "  def __init__(self, ren, col):\n",
        "    self.__columnas = col\n",
        "    self.__renglones = ren\n",
        "    self.__data = [[ 0 for i in range(col)]for i in range (ren)]\n",
        "\n",
        "  def to_string(self):\n",
        "    for i in range(self.__renglones):\n",
        "      print(self.__data[i])\n",
        "\n",
        "  def clear(self, dato):\n",
        "    for i in range (self.__renglones):\n",
        "      for x in range(self.__columnas):\n",
        "        self.__data[i][x] = dato\n",
        "\n",
        "  def get_row_size(self):\n",
        "    return self.__renglones\n",
        "\n",
        "  def get_col_size(self):\n",
        "    return self.__columnas\n",
        "\n",
        "  def set_item(self,ren,col,dato):\n",
        "    self.__data[ren][col] = dato\n",
        "\n",
        "  def get_item(self,ren,col):\n",
        "    return self.__data[ren][col]"
      ],
      "execution_count": 32,
      "outputs": []
    },
    {
      "cell_type": "code",
      "metadata": {
        "id": "CT60xzGoqhfz"
      },
      "source": [
        "class LaberintoADT:\n",
        "  def __init__(self,archivo):\n",
        "    self.laberinto = None\n",
        "    self.camino = StackADT()\n",
        "    self.inicializa(archivo)\n",
        "    self.laberinto.to_string()\n",
        "    print(\"Stack\")\n",
        "    self.camino.to_string()\n",
        "  \n",
        "  def inicializa(self,archivo):\n",
        "    entrada = open(archivo,'rt')\n",
        "    self.laberinto = Array2D(int(entrada.readline().strip()),int(entrada.readline().strip()))\n",
        "    self.laberinto.clear('P')\n",
        "    lineas = entrada.readlines()\n",
        "\n",
        "    for r in range( len(lineas)):\n",
        "            lineaBis = lineas[r].strip().split(',')\n",
        "            for c in  range( len(lineaBis )) :\n",
        "                self.laberinto.set_item(r,c,lineaBis[c])\n",
        "\n",
        "    for r in range(self.laberinto.get_row_size()):\n",
        "      for c in range(self.laberinto.get_col_size()):\n",
        "        if self.laberinto.get_item(r,c) == 'E':\n",
        "          self.camino.push((r,c))\n",
        "          "
      ],
      "execution_count": 33,
      "outputs": []
    },
    {
      "cell_type": "code",
      "metadata": {
        "colab": {
          "base_uri": "https://localhost:8080/"
        },
        "id": "BZYAZNqHt41d",
        "outputId": "b09d76ff-b6e1-4a0c-9a6c-6166c798b47a"
      },
      "source": [
        "Juego = LaberintoADT('entrada.txt')"
      ],
      "execution_count": 34,
      "outputs": [
        {
          "output_type": "stream",
          "name": "stdout",
          "text": [
            "['P', 'P', 'P', 'P', 'P']\n",
            "['P', 'P', 'C', 'C', 'S']\n",
            "['P', 'C', 'C', 'P', 'P']\n",
            "['P', 'P', 'C', 'P', 'P']\n",
            "['P', 'P', 'E', 'P', 'P']\n",
            "Stack\n",
            "| (4, 2) |\n"
          ]
        }
      ]
    }
  ]
}